{
 "cells": [
  {
   "cell_type": "markdown",
   "metadata": {},
   "source": [
    "# Resampling methods"
   ]
  },
  {
   "attachments": {},
   "cell_type": "markdown",
   "metadata": {},
   "source": [
    "In this chapter, we will be introduced to the fundamental concept of sampling. We'll also learn about resampling and why it's important.\n",
    "\n",
    "<font color=yellow>Sampling is the process of selecting a subset of observations from the population with the purpose of estimating some parameters about the whole population</font>. \n",
    "<font color=cyan>Resampling methods, on the other hand, are used to improve the estimates of the population parameters</font>."
   ]
  },
  {
   "attachments": {},
   "cell_type": "markdown",
   "metadata": {},
   "source": [
    "## Introduction to sampling"
   ]
  },
  {
   "attachments": {},
   "cell_type": "markdown",
   "metadata": {},
   "source": [
    "Sampling techniques can be broadly classified into non-probability sampling techniques and probability sampling techniques. Non-probability sampling techniques are based on the judgement of the user, whereas in probability sampling, the observations are selected by chance.\n",
    "\n",
    "Probability sampling most often includes **simple random sampling (SRS)**, **stratified sampling**, and **systematic sampling**:\n",
    "\n",
    "* **SRS: In SRS**, each observation in the population has an equal probability of being chosen for the sample.\n",
    "* **Stratified sampling**: In stratified sampling, the population data is divided into separate groups, called strata. A probability sample is then drawn from each group.\n",
    "* **Systematic sampling**: In this method, a sample is drawn from the population by choosing observations at regular intervals.\n",
    "\n",
    "> If the sample is too small or too large, it may lead to incorrect findings. For this reason, **it's important that we've got the right sample size**. A well-designed sample can help identify the biasing factors that can skew the accuracy and reliability of the expected outcome.\n",
    "\n",
    "Errors might be introduced to our samples for a variety of reasons. **An error might occur due to random sampling**, for example, which is known as **a sampling error**, or because **the method of drawing observations causes the samples to be skewed**, which is known as **sample bias**."
   ]
  },
  {
   "attachments": {},
   "cell_type": "markdown",
   "metadata": {},
   "source": [
    "### Getting ready"
   ]
  },
  {
   "cell_type": "code",
   "execution_count": 1,
   "metadata": {},
   "outputs": [],
   "source": [
    "# We'll import the required libraries. We'll read the data and take a look at the dimensions of our dataset:\n",
    "\n",
    "# import os for operating system dependent functionalities\n",
    "import os\n",
    "\n",
    "# import other required libraries\n",
    "import pandas as pd\n",
    "from sklearn.model_selection import train_test_split\n",
    "\n",
    "# Let's read our data. We'll prefix the DataFrame name with df_ to make it easier to understand:\n",
    "\n",
    "df_housingdata = pd.read_csv(\"Final_HousePrices.csv\")"
   ]
  },
  {
   "attachments": {},
   "cell_type": "markdown",
   "metadata": {},
   "source": [
    "### How to do it"
   ]
  },
  {
   "cell_type": "code",
   "execution_count": 2,
   "metadata": {},
   "outputs": [
    {
     "data": {
      "text/plain": [
       "(1460, 80)"
      ]
     },
     "execution_count": 2,
     "metadata": {},
     "output_type": "execute_result"
    }
   ],
   "source": [
    "# 1 We check the dimensions of our DataFrame as follows\n",
    "df_housingdata.shape"
   ]
  },
  {
   "cell_type": "code",
   "execution_count": 3,
   "metadata": {},
   "outputs": [
    {
     "data": {
      "application/vnd.microsoft.datawrangler.viewer.v0+json": {
       "columns": [
        {
         "name": "index",
         "rawType": "object",
         "type": "string"
        },
        {
         "name": "0",
         "rawType": "int64",
         "type": "integer"
        }
       ],
       "ref": "4957bea6-9fb0-4e7d-940a-6e9499963257",
       "rows": [
        [
         "MSSubClass",
         "0"
        ],
        [
         "MSZoning",
         "0"
        ],
        [
         "LotFrontage",
         "0"
        ],
        [
         "LotArea",
         "0"
        ],
        [
         "Street",
         "0"
        ],
        [
         "Alley",
         "0"
        ],
        [
         "LotShape",
         "0"
        ],
        [
         "LandContour",
         "0"
        ],
        [
         "Utilities",
         "0"
        ],
        [
         "LotConfig",
         "0"
        ],
        [
         "LandSlope",
         "0"
        ],
        [
         "Neighborhood",
         "0"
        ],
        [
         "Condition1",
         "0"
        ],
        [
         "Condition2",
         "0"
        ],
        [
         "BldgType",
         "0"
        ],
        [
         "HouseStyle",
         "0"
        ],
        [
         "OverallQual",
         "0"
        ],
        [
         "OverallCond",
         "0"
        ],
        [
         "YearBuilt",
         "0"
        ],
        [
         "YearRemodAdd",
         "0"
        ],
        [
         "RoofStyle",
         "0"
        ],
        [
         "RoofMatl",
         "0"
        ],
        [
         "Exterior1st",
         "0"
        ],
        [
         "Exterior2nd",
         "0"
        ],
        [
         "MasVnrType",
         "872"
        ],
        [
         "MasVnrArea",
         "0"
        ],
        [
         "ExterQual",
         "0"
        ],
        [
         "ExterCond",
         "0"
        ],
        [
         "Foundation",
         "0"
        ],
        [
         "BsmtQual",
         "0"
        ],
        [
         "BsmtCond",
         "0"
        ],
        [
         "BsmtExposure",
         "0"
        ],
        [
         "BsmtFinType1",
         "0"
        ],
        [
         "BsmtFinSF1",
         "0"
        ],
        [
         "BsmtFinType2",
         "0"
        ],
        [
         "BsmtFinSF2",
         "0"
        ],
        [
         "BsmtUnfSF",
         "0"
        ],
        [
         "TotalBsmtSF",
         "0"
        ],
        [
         "Heating",
         "0"
        ],
        [
         "HeatingQC",
         "0"
        ],
        [
         "CentralAir",
         "0"
        ],
        [
         "Electrical",
         "0"
        ],
        [
         "1stFlrSF",
         "0"
        ],
        [
         "2ndFlrSF",
         "0"
        ],
        [
         "LowQualFinSF",
         "0"
        ],
        [
         "GrLivArea",
         "0"
        ],
        [
         "BsmtFullBath",
         "0"
        ],
        [
         "BsmtHalfBath",
         "0"
        ],
        [
         "FullBath",
         "0"
        ],
        [
         "HalfBath",
         "0"
        ]
       ],
       "shape": {
        "columns": 1,
        "rows": 80
       }
      },
      "text/plain": [
       "MSSubClass       0\n",
       "MSZoning         0\n",
       "LotFrontage      0\n",
       "LotArea          0\n",
       "Street           0\n",
       "                ..\n",
       "MoSold           0\n",
       "YrSold           0\n",
       "SaleType         0\n",
       "SaleCondition    0\n",
       "SalePrice        0\n",
       "Length: 80, dtype: int64"
      ]
     },
     "execution_count": 3,
     "metadata": {},
     "output_type": "execute_result"
    }
   ],
   "source": [
    "\n",
    "# We then look to see if our dataframe has any missing data\n",
    "df_housingdata.isnull().sum()"
   ]
  },
  {
   "cell_type": "code",
   "execution_count": 4,
   "metadata": {},
   "outputs": [
    {
     "name": "stdout",
     "output_type": "stream",
     "text": [
      "(1021, 79)\n",
      "(1021,)\n",
      "(438, 79)\n",
      "(438,)\n"
     ]
    }
   ],
   "source": [
    "# 3 We separate the predictor and response variable into 2 differents dataframes\n",
    "\n",
    "# create feature and response variables\n",
    "X = df_housingdata.iloc[:, 0:79]\n",
    "y = df_housingdata['SalePrice']\n",
    "\n",
    "# 4 We split both our predictor and our response datasets into training and testing subsets using train_test_split()\n",
    "X_train, X_test, y_train, y_test = train_test_split(X, y, train_size=.7, test_size=.3, random_state=0)\n",
    "\n",
    "# 5 We can find the number of observations and columns in each subset as follows:\n",
    "print(X_train.shape)\n",
    "print(y_train.shape)\n",
    "print(X_test.shape)\n",
    "print(y_test.shape)"
   ]
  },
  {
   "attachments": {},
   "cell_type": "markdown",
   "metadata": {},
   "source": [
    "### There's more"
   ]
  },
  {
   "attachments": {},
   "cell_type": "markdown",
   "metadata": {},
   "source": [
    "In this example, we're going to use a dataset in which we measure a dichotomous categorical target variable. It's important to understand that the distribution of both classes of our "
   ]
  },
  {
   "attachments": {},
   "cell_type": "markdown",
   "metadata": {},
   "source": [
    "target variable is similar in both the training and testing subsets:"
   ]
  },
  {
   "cell_type": "code",
   "execution_count": 5,
   "metadata": {},
   "outputs": [
    {
     "data": {
      "text/plain": [
       "(30000, 25)"
      ]
     },
     "execution_count": 5,
     "metadata": {},
     "output_type": "execute_result"
    }
   ],
   "source": [
    "# 1 We start by reading our dataset and looking at its dimensions:\n",
    "df_creditcarddata = pd.read_csv(\"creditcarddefault.csv\")\n",
    "df_creditcarddata.shape"
   ]
  },
  {
   "attachments": {},
   "cell_type": "markdown",
   "metadata": {},
   "source": [
    "We have 30,000 observations with 25 variables. The last variable, the default payment next month, is our target variable, which has values that are either 0 or 1."
   ]
  },
  {
   "cell_type": "code",
   "execution_count": 6,
   "metadata": {},
   "outputs": [],
   "source": [
    "\n",
    "#2 We separate our data into a feature set and the response variable and split it into training and testing subsets using the following code:\n",
    "# create feature & response set\n",
    "X = df_creditcarddata.iloc[:,0:24]\n",
    "y = df_creditcarddata['default payment next month']\n",
    "\n",
    "# Create train & test sets\n",
    "X_train, X_test, y_train, y_test = train_test_split(X, y, train_size=0.7, test_size=0.3, stratify=y)"
   ]
  },
  {
   "attachments": {},
   "cell_type": "markdown",
   "metadata": {},
   "source": [
    "Note that, this time, we've used a parameter, `stratify`, in our `train_test_split()` function. The stratify parameter makes a split so that the proportion of values in the sample that's produced is equal to the proportion of values in the variable that's provided to it. Also note that we've assigned the response variable, `y`, to the stratify parameter.\n",
    "\n",
    "We can now see the distribution of our dichotomous class in our target variable for both the training and testing subsets:\n"
   ]
  },
  {
   "cell_type": "code",
   "execution_count": 9,
   "metadata": {},
   "outputs": [
    {
     "name": "stdout",
     "output_type": "stream",
     "text": [
      "default payment next month\n",
      "0    0.77881\n",
      "1    0.22119\n",
      "Name: proportion, dtype: float64\n",
      "default payment next month\n",
      "0    0.778778\n",
      "1    0.221222\n",
      "Name: proportion, dtype: float64\n"
     ]
    }
   ],
   "source": [
    "# print(pd.value_counts(y_train.values)*100/y_train.shape)\n",
    "# print(pd.value_counts(y_test.values)*100/y_test.shape)\n",
    "print(pd.Series(y_train).value_counts(normalize=True))\n",
    "print(pd.Series(y_test).value_counts(normalize=True))"
   ]
  },
  {
   "attachments": {},
   "cell_type": "markdown",
   "metadata": {},
   "source": [
    "We can also pass another parameter, `shuffle`, to `train_test_split()`. This takes a Boolean value, True or False, to indicate **whether or not to shuffle the data before splitting it. If `shuffle=False`, then stratify must be `None`**."
   ]
  },
  {
   "attachments": {},
   "cell_type": "markdown",
   "metadata": {},
   "source": [
    "## K-fold and leave out cross validation"
   ]
  },
  {
   "attachments": {},
   "cell_type": "markdown",
   "metadata": {},
   "source": [
    "**Machine learning models often face the problem of generalization when they're applied to unseen data to make predictions**. To avoid this problem, **the model isn't trained using the complete dataset**. Instead, the dataset is split into training and testing subsets. **The model is trained on the training data and evaluated on the testing set, which it doesn't see during the training process. This is the fundamental idea behind cross-validation**."
   ]
  },
  {
   "attachments": {},
   "cell_type": "markdown",
   "metadata": {},
   "source": [
    "The simplest kind of cross-validation is the holdout method, which we saw in the previous recipe, Introduction to sampling. In the holdout method, when we split our data into training and testing subsets, there's a possibility that the testing set isn't that similar to the training set because of the high dimensionality of the data. This can lead to instability in the outcome. For this reason, it's very important that we sample our data efficiently. We can solve this problem using other cross-validation methods such as **leave-one-out cross-validation (LOOCV)** or **k-fold cross-validation (k-fold CV)**.\n",
    "\n",
    "k-fold CV is a widely used approach that's used for estimating test errors. The original dataset with N observations is divided into K subsets and the holdout method is repeated K times. In each iteration, K-1 subsets are used as the training set and the rest are used as the testing set. The error is calculated as follows:\n",
    "\n",
    "![Alt text](10_fold_cross_validation.png)\n",
    "\n",
    "In LOOCV, the number of subsets K is equal to the number of observations in the dataset, N. LOOCV uses one observation from the original dataset as the validation set and the remaining N-1 observations as the training set. This is iterated N times, so that each observation in the sample is used as the validation data in each iteration. This is the same as k-fold CV, in which K equals N, the number of data points in the set. LOOCV usually takes a lot of computational power because of the large number of iterations required.\n",
    "\n",
    "In LOOCV, the estimates from each fold are highly correlated and their average can have a high level of variance.\n",
    "\n",
    "Estimating the test error is based on a single observation and is represented as $\\text{MSE} = (\\bar{y} - \\hat{y})^2$ = . We can compute the average of the MSEs for all the folds as follows:\n",
    "\n",
    "$$\n",
    "\\text{CV}_n = \\frac{1}{n} \\sum^n_{i=1}\\text{MSE}_i\n",
    "$$\n",
    "\n",
    "This calculation is no different from the calculation involved in k-fold CV. We'll use scikit-learn libraries to see how techniques such as k-fold CV and LOOCV can be implemented."
   ]
  },
  {
   "attachments": {},
   "cell_type": "markdown",
   "metadata": {},
   "source": [
    "### Getting ready"
   ]
  },
  {
   "cell_type": "code",
   "execution_count": null,
   "metadata": {},
   "outputs": [],
   "source": [
    "import pandas as pd\n",
    "import numpy as np\n",
    "from sklearn.model_selection import train_test_split\n",
    "from sklearn.linear_model import LinearRegression\n",
    "from sklearn.metrics import mean_squared_error, r2_score\n",
    "from sklearn.model_selection import KFold\n",
    "import matplotlib.pyplot as plt\n",
    "\n",
    "# We read our data and split the features and the response variable\n",
    "\n",
    "# Let's read our data\n",
    "df_autodata = pd.read_csv(\"autompg.csv\")\n",
    "\n",
    "# Fill NAs with the median value\n",
    "median_horsepower = df_autodata['horsepower'].median()\n",
    "df_autodata['horsepower'] = df_autodata['horsepower'].fillna(median_horsepower)\n",
    "\n",
    "# Drop the carname variable\n",
    "df_autodata.drop('carname', axis=1, inplace=True)\n",
    "\n",
    "# Separate features and target variable\n",
    "X = df_autodata.iloc[:, 1:8]\n",
    "y = df_autodata.iloc[:, 0]\n",
    "\n",
    "# Convert to NumPy arrays\n",
    "X = np.array(X)\n",
    "y = np.array(y)\n"
   ]
  },
  {
   "cell_type": "markdown",
   "metadata": {},
   "source": [
    "### How to do it"
   ]
  },
  {
   "attachments": {},
   "cell_type": "markdown",
   "metadata": {},
   "source": [
    "The k-folds cross-validator provides us with the train and test indices to split the data into training and testing subsets:"
   ]
  },
  {
   "cell_type": "code",
   "execution_count": 15,
   "metadata": {},
   "outputs": [
    {
     "name": "stdout",
     "output_type": "stream",
     "text": [
      "R^2: 0.68, MSE: 8.96\n",
      "R^2: 0.73, MSE: 9.10\n",
      "R^2: 0.69, MSE: 9.90\n",
      "R^2: 0.72, MSE: 9.47\n",
      "R^2: 0.75, MSE: 8.50\n",
      "R^2: 0.77, MSE: 8.32\n",
      "R^2: 0.75, MSE: 9.83\n",
      "R^2: 0.77, MSE: 10.13\n",
      "R^2: 0.78, MSE: 12.59\n",
      "R^2: 0.79, MSE: 12.85\n",
      "Average CV Score:  9.962852981837438\n"
     ]
    }
   ],
   "source": [
    "# 1 We split the dataset into K consecutive folds (without shuffling b default) with K = 10\n",
    "kfoldcv = KFold(n_splits=10)\n",
    "kf_ytests = []\n",
    "kf_predictedvalues = []\n",
    "mean_mse = 0.0\n",
    "\n",
    "for train_index, test_index in kfoldcv.split(X):\n",
    "    X_train, X_test = X[train_index], X[test_index]\n",
    "    y_train, y_test = y[train_index], y[test_index]\n",
    "\n",
    "    model = LinearRegression()\n",
    "    model.fit(X_train, y_train)\n",
    "    y_pred = model.predict(X_test)\n",
    "\n",
    "    # There is only one y_test and y_pred per iteration over the kfoldcv.split\n",
    "    # so we append them to the respective lists\n",
    "\n",
    "    kf_ytests += list(y_test)\n",
    "    kf_predictedvalues += list(y_pred)\n",
    "    mse = mean_squared_error(kf_ytests, kf_predictedvalues)\n",
    "    r2score = r2_score(kf_ytests, kf_predictedvalues)\n",
    "    print(\"R^2: {:.2f}, MSE: {:.2f}\".format(r2score, mse))\n",
    "    mean_mse += mse\n",
    "\n",
    "# 2 We can look at our coefficent of determination using r2_scode() and the mean sqaured error\n",
    "# using mse()\n",
    "\n",
    "print(\"Average CV Score: \", mean_mse/10)"
   ]
  },
  {
   "cell_type": "code",
   "execution_count": 16,
   "metadata": {},
   "outputs": [
    {
     "data": {
      "text/plain": [
       "Text(0, 0.5, 'Predicted mpg')"
      ]
     },
     "execution_count": 16,
     "metadata": {},
     "output_type": "execute_result"
    },
    {
     "data": {
      "image/png": "[encoded data removed]",
      "text/plain": [
       "<Figure size 640x480 with 1 Axes>"
      ]
     },
     "metadata": {},
     "output_type": "display_data"
    }
   ],
   "source": [
    "# 3 We plot the predicted values against the actual values of the response variable:\n",
    "## Let us plot the model\n",
    "plt.scatter(kf_ytests, kf_predictedvalues)\n",
    "plt.xlabel('Reported mpg')\n",
    "plt.ylabel('Predicted mpg')"
   ]
  },
  {
   "cell_type": "markdown",
   "metadata": {},
   "source": [
    "### There's more"
   ]
  },
  {
   "attachments": {},
   "cell_type": "markdown",
   "metadata": {},
   "source": [
    "We'll now do the same exercise with LOOCV by using LeaveOneOut from sklearn.model_selection:"
   ]
  },
  {
   "cell_type": "code",
   "execution_count": 19,
   "metadata": {},
   "outputs": [
    {
     "name": "stderr",
     "output_type": "stream",
     "text": [
      "/home/ibrahim/.cache/pypoetry/virtualenvs/ensemble-machine-learning-7jHvpwn2-py3.12/lib/python3.12/site-packages/sklearn/metrics/_regression.py:1283: UndefinedMetricWarning: R^2 score is not well-defined with less than two samples.\n",
      "  warnings.warn(msg, UndefinedMetricWarning)\n"
     ]
    },
    {
     "name": "stdout",
     "output_type": "stream",
     "text": [
      "R^2: nan, MSE: 9.37\n",
      "R^2: -1.28, MSE: 5.12\n",
      "R^2: -1.95, MSE: 5.90\n",
      "R^2: -1.73, MSE: 4.60\n",
      "R^2: -2.32, MSE: 4.51\n",
      "R^2: -3.47, MSE: 7.09\n",
      "R^2: -2.68, MSE: 7.82\n",
      "R^2: -2.52, MSE: 8.31\n",
      "R^2: -2.73, MSE: 9.12\n",
      "R^2: -2.82, MSE: 8.56\n",
      "R^2: -2.77, MSE: 7.80\n",
      "R^2: -2.44, MSE: 7.15\n",
      "R^2: -2.43, MSE: 6.61\n",
      "R^2: -3.75, MSE: 9.12\n",
      "R^2: -0.31, MSE: 8.51\n",
      "R^2: -0.03, MSE: 8.55\n",
      "R^2: -0.02, MSE: 8.17\n",
      "R^2: 0.11, MSE: 7.71\n",
      "R^2: 0.45, MSE: 7.43\n",
      "R^2: 0.57, MSE: 7.13\n",
      "R^2: 0.59, MSE: 7.58\n",
      "R^2: 0.61, MSE: 7.39\n",
      "R^2: 0.64, MSE: 7.29\n",
      "R^2: 0.66, MSE: 7.29\n",
      "R^2: 0.66, MSE: 7.02\n",
      "R^2: 0.70, MSE: 6.97\n",
      "R^2: 0.73, MSE: 6.80\n",
      "R^2: 0.74, MSE: 6.81\n",
      "R^2: 0.75, MSE: 6.82\n",
      "R^2: 0.78, MSE: 6.61\n",
      "R^2: 0.77, MSE: 7.11\n",
      "R^2: 0.78, MSE: 6.90\n",
      "R^2: 0.79, MSE: 6.71\n",
      "R^2: 0.79, MSE: 6.70\n",
      "R^2: 0.79, MSE: 6.51\n",
      "R^2: 0.79, MSE: 6.33\n",
      "R^2: 0.79, MSE: 6.21\n",
      "R^2: 0.79, MSE: 6.05\n",
      "R^2: 0.78, MSE: 6.07\n",
      "R^2: 0.78, MSE: 6.24\n",
      "R^2: 0.78, MSE: 6.18\n",
      "R^2: 0.78, MSE: 6.14\n",
      "R^2: 0.76, MSE: 6.66\n",
      "R^2: 0.75, MSE: 6.94\n",
      "R^2: 0.71, MSE: 7.96\n",
      "R^2: 0.71, MSE: 7.85\n",
      "R^2: 0.71, MSE: 7.70\n",
      "R^2: 0.71, MSE: 7.58\n",
      "R^2: 0.71, MSE: 7.44\n",
      "R^2: 0.71, MSE: 7.29\n",
      "R^2: 0.73, MSE: 7.31\n",
      "R^2: 0.74, MSE: 7.56\n",
      "R^2: 0.75, MSE: 7.86\n",
      "R^2: 0.77, MSE: 7.80\n",
      "R^2: 0.78, MSE: 8.18\n",
      "R^2: 0.79, MSE: 8.04\n",
      "R^2: 0.79, MSE: 7.90\n",
      "R^2: 0.79, MSE: 7.87\n",
      "R^2: 0.79, MSE: 7.74\n",
      "R^2: 0.79, MSE: 7.78\n",
      "R^2: 0.78, MSE: 7.87\n",
      "R^2: 0.78, MSE: 7.92\n",
      "R^2: 0.78, MSE: 7.82\n",
      "R^2: 0.78, MSE: 7.77\n",
      "R^2: 0.78, MSE: 7.76\n",
      "R^2: 0.78, MSE: 7.66\n",
      "R^2: 0.78, MSE: 7.60\n",
      "R^2: 0.79, MSE: 7.50\n",
      "R^2: 0.79, MSE: 7.48\n",
      "R^2: 0.79, MSE: 7.40\n",
      "R^2: 0.79, MSE: 7.33\n",
      "R^2: 0.78, MSE: 7.83\n",
      "R^2: 0.78, MSE: 7.75\n",
      "R^2: 0.78, MSE: 7.65\n",
      "R^2: 0.78, MSE: 7.58\n",
      "R^2: 0.78, MSE: 7.50\n",
      "R^2: 0.78, MSE: 7.48\n",
      "R^2: 0.78, MSE: 7.43\n",
      "R^2: 0.78, MSE: 7.34\n",
      "R^2: 0.79, MSE: 7.25\n",
      "R^2: 0.79, MSE: 7.17\n",
      "R^2: 0.79, MSE: 7.13\n",
      "R^2: 0.79, MSE: 7.08\n",
      "R^2: 0.79, MSE: 7.19\n",
      "R^2: 0.80, MSE: 7.11\n",
      "R^2: 0.80, MSE: 7.03\n",
      "R^2: 0.80, MSE: 6.99\n",
      "R^2: 0.80, MSE: 6.94\n",
      "R^2: 0.80, MSE: 6.86\n",
      "R^2: 0.80, MSE: 6.79\n",
      "R^2: 0.80, MSE: 6.82\n",
      "R^2: 0.80, MSE: 6.75\n",
      "R^2: 0.81, MSE: 6.69\n",
      "R^2: 0.81, MSE: 6.64\n",
      "R^2: 0.81, MSE: 6.65\n",
      "R^2: 0.81, MSE: 6.67\n",
      "R^2: 0.81, MSE: 6.67\n",
      "R^2: 0.81, MSE: 6.64\n",
      "R^2: 0.80, MSE: 6.70\n",
      "R^2: 0.80, MSE: 6.74\n",
      "R^2: 0.80, MSE: 6.78\n",
      "R^2: 0.80, MSE: 6.75\n",
      "R^2: 0.80, MSE: 6.76\n",
      "R^2: 0.80, MSE: 6.74\n",
      "R^2: 0.80, MSE: 6.75\n",
      "R^2: 0.80, MSE: 6.77\n",
      "R^2: 0.80, MSE: 6.72\n",
      "R^2: 0.79, MSE: 6.82\n",
      "R^2: 0.78, MSE: 7.25\n",
      "R^2: 0.78, MSE: 7.31\n",
      "R^2: 0.77, MSE: 7.43\n",
      "R^2: 0.75, MSE: 8.22\n",
      "R^2: 0.74, MSE: 8.44\n",
      "R^2: 0.74, MSE: 8.39\n",
      "R^2: 0.74, MSE: 8.32\n",
      "R^2: 0.74, MSE: 8.26\n",
      "R^2: 0.74, MSE: 8.31\n",
      "R^2: 0.74, MSE: 8.24\n",
      "R^2: 0.74, MSE: 8.24\n",
      "R^2: 0.74, MSE: 8.28\n",
      "R^2: 0.74, MSE: 8.27\n",
      "R^2: 0.74, MSE: 8.27\n",
      "R^2: 0.74, MSE: 8.22\n",
      "R^2: 0.74, MSE: 8.23\n",
      "R^2: 0.73, MSE: 8.40\n",
      "R^2: 0.73, MSE: 8.33\n",
      "R^2: 0.73, MSE: 8.28\n",
      "R^2: 0.73, MSE: 8.29\n",
      "R^2: 0.73, MSE: 8.41\n",
      "R^2: 0.74, MSE: 8.35\n",
      "R^2: 0.74, MSE: 8.31\n",
      "R^2: 0.75, MSE: 8.26\n",
      "R^2: 0.75, MSE: 8.20\n",
      "R^2: 0.75, MSE: 8.14\n",
      "R^2: 0.75, MSE: 8.11\n",
      "R^2: 0.75, MSE: 8.06\n",
      "R^2: 0.75, MSE: 8.04\n",
      "R^2: 0.75, MSE: 8.01\n",
      "R^2: 0.75, MSE: 7.99\n",
      "R^2: 0.75, MSE: 8.02\n",
      "R^2: 0.75, MSE: 7.97\n",
      "R^2: 0.76, MSE: 7.95\n",
      "R^2: 0.76, MSE: 7.93\n",
      "R^2: 0.76, MSE: 7.88\n",
      "R^2: 0.77, MSE: 7.83\n",
      "R^2: 0.77, MSE: 7.81\n",
      "R^2: 0.78, MSE: 7.79\n",
      "R^2: 0.78, MSE: 7.82\n",
      "R^2: 0.78, MSE: 7.77\n",
      "R^2: 0.78, MSE: 7.76\n",
      "R^2: 0.78, MSE: 7.72\n",
      "R^2: 0.78, MSE: 7.72\n",
      "R^2: 0.78, MSE: 7.69\n",
      "R^2: 0.78, MSE: 7.65\n",
      "R^2: 0.78, MSE: 7.82\n",
      "R^2: 0.77, MSE: 8.14\n",
      "R^2: 0.76, MSE: 8.18\n",
      "R^2: 0.76, MSE: 8.15\n",
      "R^2: 0.76, MSE: 8.18\n",
      "R^2: 0.76, MSE: 8.16\n",
      "R^2: 0.76, MSE: 8.11\n",
      "R^2: 0.76, MSE: 8.07\n",
      "R^2: 0.76, MSE: 8.08\n",
      "R^2: 0.76, MSE: 8.03\n",
      "R^2: 0.76, MSE: 7.99\n",
      "R^2: 0.76, MSE: 7.94\n",
      "R^2: 0.75, MSE: 8.29\n",
      "R^2: 0.76, MSE: 8.24\n",
      "R^2: 0.76, MSE: 8.20\n",
      "R^2: 0.75, MSE: 8.21\n",
      "R^2: 0.75, MSE: 8.17\n",
      "R^2: 0.76, MSE: 8.15\n",
      "R^2: 0.76, MSE: 8.14\n",
      "R^2: 0.75, MSE: 8.15\n",
      "R^2: 0.75, MSE: 8.16\n",
      "R^2: 0.76, MSE: 8.12\n",
      "R^2: 0.76, MSE: 8.10\n",
      "R^2: 0.76, MSE: 8.06\n",
      "R^2: 0.76, MSE: 8.02\n",
      "R^2: 0.76, MSE: 7.98\n",
      "R^2: 0.76, MSE: 7.93\n",
      "R^2: 0.77, MSE: 7.89\n",
      "R^2: 0.77, MSE: 7.86\n",
      "R^2: 0.77, MSE: 7.89\n",
      "R^2: 0.77, MSE: 7.85\n",
      "R^2: 0.77, MSE: 7.81\n",
      "R^2: 0.77, MSE: 7.78\n",
      "R^2: 0.77, MSE: 7.78\n",
      "R^2: 0.77, MSE: 7.75\n",
      "R^2: 0.77, MSE: 7.71\n",
      "R^2: 0.77, MSE: 7.68\n",
      "R^2: 0.77, MSE: 7.64\n",
      "R^2: 0.77, MSE: 7.61\n",
      "R^2: 0.77, MSE: 7.58\n",
      "R^2: 0.77, MSE: 7.54\n",
      "R^2: 0.78, MSE: 7.50\n",
      "R^2: 0.77, MSE: 7.53\n",
      "R^2: 0.78, MSE: 7.50\n",
      "R^2: 0.78, MSE: 7.46\n",
      "R^2: 0.78, MSE: 7.43\n",
      "R^2: 0.78, MSE: 7.42\n",
      "R^2: 0.78, MSE: 7.39\n",
      "R^2: 0.78, MSE: 7.48\n",
      "R^2: 0.78, MSE: 7.45\n",
      "R^2: 0.79, MSE: 7.42\n",
      "R^2: 0.79, MSE: 7.40\n",
      "R^2: 0.79, MSE: 7.38\n",
      "R^2: 0.79, MSE: 7.37\n",
      "R^2: 0.79, MSE: 7.40\n",
      "R^2: 0.79, MSE: 7.42\n",
      "R^2: 0.78, MSE: 7.55\n",
      "R^2: 0.78, MSE: 7.52\n",
      "R^2: 0.78, MSE: 7.52\n",
      "R^2: 0.78, MSE: 7.54\n",
      "R^2: 0.78, MSE: 7.59\n",
      "R^2: 0.78, MSE: 7.68\n",
      "R^2: 0.78, MSE: 7.65\n",
      "R^2: 0.78, MSE: 7.63\n",
      "R^2: 0.79, MSE: 7.67\n",
      "R^2: 0.79, MSE: 7.65\n",
      "R^2: 0.79, MSE: 7.62\n",
      "R^2: 0.79, MSE: 7.59\n",
      "R^2: 0.79, MSE: 7.56\n",
      "R^2: 0.79, MSE: 7.53\n",
      "R^2: 0.79, MSE: 7.49\n",
      "R^2: 0.79, MSE: 7.50\n",
      "R^2: 0.79, MSE: 7.47\n",
      "R^2: 0.79, MSE: 7.44\n",
      "R^2: 0.79, MSE: 7.44\n",
      "R^2: 0.79, MSE: 7.40\n",
      "R^2: 0.79, MSE: 7.37\n",
      "R^2: 0.79, MSE: 7.34\n",
      "R^2: 0.79, MSE: 7.31\n",
      "R^2: 0.80, MSE: 7.29\n",
      "R^2: 0.80, MSE: 7.27\n",
      "R^2: 0.79, MSE: 7.32\n",
      "R^2: 0.80, MSE: 7.29\n",
      "R^2: 0.80, MSE: 7.27\n",
      "R^2: 0.80, MSE: 7.35\n",
      "R^2: 0.80, MSE: 7.34\n",
      "R^2: 0.80, MSE: 7.31\n",
      "R^2: 0.80, MSE: 7.36\n",
      "R^2: 0.80, MSE: 7.43\n",
      "R^2: 0.79, MSE: 7.51\n",
      "R^2: 0.79, MSE: 7.99\n",
      "R^2: 0.80, MSE: 8.06\n",
      "R^2: 0.80, MSE: 8.03\n",
      "R^2: 0.80, MSE: 8.20\n",
      "R^2: 0.81, MSE: 8.18\n",
      "R^2: 0.80, MSE: 8.16\n",
      "R^2: 0.81, MSE: 8.13\n",
      "R^2: 0.81, MSE: 8.10\n",
      "R^2: 0.80, MSE: 8.08\n",
      "R^2: 0.80, MSE: 8.08\n",
      "R^2: 0.80, MSE: 8.12\n",
      "R^2: 0.80, MSE: 8.09\n",
      "R^2: 0.80, MSE: 8.06\n",
      "R^2: 0.80, MSE: 8.10\n",
      "R^2: 0.80, MSE: 8.07\n",
      "R^2: 0.80, MSE: 8.08\n",
      "R^2: 0.80, MSE: 8.06\n",
      "R^2: 0.80, MSE: 8.09\n",
      "R^2: 0.80, MSE: 8.08\n",
      "R^2: 0.80, MSE: 8.08\n",
      "R^2: 0.79, MSE: 8.14\n",
      "R^2: 0.80, MSE: 8.11\n",
      "R^2: 0.80, MSE: 8.08\n",
      "R^2: 0.80, MSE: 8.06\n",
      "R^2: 0.80, MSE: 8.08\n",
      "R^2: 0.80, MSE: 8.08\n",
      "R^2: 0.79, MSE: 8.32\n",
      "R^2: 0.79, MSE: 8.32\n",
      "R^2: 0.79, MSE: 8.29\n",
      "R^2: 0.79, MSE: 8.40\n",
      "R^2: 0.78, MSE: 8.48\n",
      "R^2: 0.78, MSE: 8.60\n",
      "R^2: 0.78, MSE: 8.64\n",
      "R^2: 0.78, MSE: 8.72\n",
      "R^2: 0.78, MSE: 8.68\n",
      "R^2: 0.78, MSE: 8.68\n",
      "R^2: 0.78, MSE: 8.66\n",
      "R^2: 0.78, MSE: 8.73\n",
      "R^2: 0.78, MSE: 8.74\n",
      "R^2: 0.78, MSE: 8.76\n",
      "R^2: 0.77, MSE: 8.75\n",
      "R^2: 0.77, MSE: 8.74\n",
      "R^2: 0.77, MSE: 8.74\n",
      "R^2: 0.77, MSE: 8.75\n",
      "R^2: 0.77, MSE: 8.73\n",
      "R^2: 0.77, MSE: 8.70\n",
      "R^2: 0.77, MSE: 8.71\n",
      "R^2: 0.77, MSE: 8.69\n",
      "R^2: 0.77, MSE: 8.67\n",
      "R^2: 0.78, MSE: 8.64\n",
      "R^2: 0.78, MSE: 8.61\n",
      "R^2: 0.78, MSE: 8.66\n",
      "R^2: 0.78, MSE: 8.63\n",
      "R^2: 0.78, MSE: 8.62\n",
      "R^2: 0.78, MSE: 8.61\n",
      "R^2: 0.78, MSE: 8.59\n",
      "R^2: 0.78, MSE: 8.56\n",
      "R^2: 0.78, MSE: 8.62\n",
      "R^2: 0.78, MSE: 8.67\n",
      "R^2: 0.79, MSE: 8.65\n",
      "R^2: 0.79, MSE: 8.76\n",
      "R^2: 0.79, MSE: 8.73\n",
      "R^2: 0.79, MSE: 8.73\n",
      "R^2: 0.79, MSE: 8.70\n",
      "R^2: 0.79, MSE: 8.80\n",
      "R^2: 0.79, MSE: 9.08\n",
      "R^2: 0.79, MSE: 9.09\n",
      "R^2: 0.79, MSE: 9.07\n",
      "R^2: 0.80, MSE: 9.07\n",
      "R^2: 0.80, MSE: 9.04\n",
      "R^2: 0.80, MSE: 9.01\n",
      "R^2: 0.80, MSE: 8.99\n",
      "R^2: 0.80, MSE: 9.04\n",
      "R^2: 0.80, MSE: 9.03\n",
      "R^2: 0.80, MSE: 9.00\n",
      "R^2: 0.80, MSE: 8.98\n",
      "R^2: 0.80, MSE: 9.05\n",
      "R^2: 0.80, MSE: 9.02\n",
      "R^2: 0.80, MSE: 9.53\n",
      "R^2: 0.80, MSE: 9.51\n",
      "R^2: 0.80, MSE: 9.64\n",
      "R^2: 0.80, MSE: 10.01\n",
      "R^2: 0.80, MSE: 10.44\n",
      "R^2: 0.79, MSE: 10.69\n",
      "R^2: 0.79, MSE: 10.71\n",
      "R^2: 0.79, MSE: 10.96\n",
      "R^2: 0.79, MSE: 11.10\n",
      "R^2: 0.80, MSE: 11.07\n",
      "R^2: 0.80, MSE: 11.09\n",
      "R^2: 0.80, MSE: 11.14\n",
      "R^2: 0.79, MSE: 11.26\n",
      "R^2: 0.79, MSE: 11.31\n",
      "R^2: 0.79, MSE: 11.29\n",
      "R^2: 0.79, MSE: 11.26\n",
      "R^2: 0.79, MSE: 11.24\n",
      "R^2: 0.79, MSE: 11.23\n",
      "R^2: 0.79, MSE: 11.22\n",
      "R^2: 0.79, MSE: 11.23\n",
      "R^2: 0.79, MSE: 11.19\n",
      "R^2: 0.80, MSE: 11.18\n",
      "R^2: 0.80, MSE: 11.26\n",
      "R^2: 0.80, MSE: 11.23\n",
      "R^2: 0.80, MSE: 11.22\n",
      "R^2: 0.80, MSE: 11.19\n",
      "R^2: 0.80, MSE: 11.19\n",
      "R^2: 0.80, MSE: 11.16\n",
      "R^2: 0.81, MSE: 11.17\n",
      "R^2: 0.81, MSE: 11.15\n",
      "R^2: 0.81, MSE: 11.12\n",
      "R^2: 0.81, MSE: 11.09\n",
      "R^2: 0.81, MSE: 11.09\n",
      "R^2: 0.81, MSE: 11.06\n",
      "R^2: 0.81, MSE: 11.03\n",
      "R^2: 0.81, MSE: 11.01\n",
      "R^2: 0.81, MSE: 10.98\n",
      "R^2: 0.81, MSE: 10.96\n",
      "R^2: 0.81, MSE: 10.99\n",
      "R^2: 0.81, MSE: 10.99\n",
      "R^2: 0.81, MSE: 11.00\n",
      "R^2: 0.81, MSE: 10.98\n",
      "R^2: 0.81, MSE: 10.98\n",
      "R^2: 0.81, MSE: 11.04\n",
      "R^2: 0.81, MSE: 11.12\n",
      "R^2: 0.81, MSE: 11.10\n",
      "R^2: 0.81, MSE: 11.08\n",
      "R^2: 0.81, MSE: 11.08\n",
      "R^2: 0.81, MSE: 11.06\n",
      "R^2: 0.81, MSE: 11.04\n",
      "R^2: 0.81, MSE: 11.02\n",
      "R^2: 0.81, MSE: 11.03\n",
      "R^2: 0.81, MSE: 11.05\n",
      "R^2: 0.81, MSE: 11.02\n",
      "R^2: 0.81, MSE: 11.00\n",
      "R^2: 0.81, MSE: 11.04\n",
      "R^2: 0.81, MSE: 11.10\n",
      "R^2: 0.81, MSE: 11.11\n",
      "R^2: 0.81, MSE: 11.09\n",
      "R^2: 0.81, MSE: 11.06\n",
      "R^2: 0.81, MSE: 11.04\n",
      "R^2: 0.82, MSE: 11.02\n",
      "R^2: 0.82, MSE: 11.03\n",
      "R^2: 0.82, MSE: 11.02\n",
      "R^2: 0.82, MSE: 11.00\n",
      "R^2: 0.81, MSE: 11.23\n",
      "R^2: 0.81, MSE: 11.24\n",
      "R^2: 0.81, MSE: 11.32\n",
      "R^2: 0.81, MSE: 11.29\n",
      "R^2: 0.81, MSE: 11.33\n",
      "R^2: 0.81, MSE: 11.31\n",
      "R^2: 0.81, MSE: 11.28\n",
      "R^2: 0.81, MSE: 11.50\n",
      "R^2: 0.81, MSE: 11.47\n",
      "R^2: 0.81, MSE: 11.45\n",
      "R^2: 0.81, MSE: 11.43\n",
      "Average CV Score : 8.401498720470839\n"
     ]
    }
   ],
   "source": [
    "\n",
    "# 1 We'll read our data once again and split it into the features and response sets:\n",
    "# Let's read our data. \n",
    "df_autodata = pd.read_csv(\"./autompg.csv\")\n",
    "\n",
    "# Fill NAs with the median value\n",
    "# df_autodata['horsepower'].fillna(df_autodata['horsepower'].median(), inplace=True)\n",
    "df_autodata['horsepower'] = df_autodata['horsepower'].fillna(df_autodata['horsepower'].median())\n",
    "\n",
    "# Drop carname variable\n",
    "# df_autodata.drop(['carname'], axis=1, inplace=True)\n",
    "df_autodata = df_autodata.drop(['carname'], axis=1)\n",
    "\n",
    "\n",
    "X = df_autodata.iloc[:, 1:8]\n",
    "y = df_autodata.iloc[:, 0]\n",
    "X=np.array(X)\n",
    "y=np.array(y)\n",
    "\n",
    "# 2 We use LOOCV to build our models:\n",
    "from sklearn.model_selection import LeaveOneOut \n",
    "loocv = LeaveOneOut()\n",
    "\n",
    "loo_ytests = []\n",
    "loo_predictedvalues = []\n",
    "mean_mse = 0.0\n",
    "\n",
    "for train_index, test_index in loocv.split(X):\n",
    "    # the below requires arrays. So we converted the dataframes to arrays\n",
    "    X_train, X_test = X[train_index], X[test_index] \n",
    "    y_train, y_test = y[train_index], y[test_index]\n",
    "    \n",
    "    model = LinearRegression()\n",
    "    model.fit(X_train, y_train) \n",
    "    y_pred = model.predict(X_test)\n",
    "        \n",
    "    # there is only one y-test and y-pred per iteration over the loo.split, \n",
    "    # so we append them to the respective lists.\n",
    "        \n",
    "    loo_ytests += list(y_test)\n",
    "    loo_predictedvalues += list(y_pred)\n",
    "    \n",
    "    mse = mean_squared_error(loo_ytests, loo_predictedvalues)\n",
    "    r2score = r2_score(loo_ytests, loo_predictedvalues)\n",
    "    print(\"R^2: {:.2f}, MSE: {:.2f}\".format(r2score, mse))\n",
    "    mean_mse += mse\n",
    "\n",
    "# 3 We can look at our coefficient of determination using r2_score() and the mean squared error using mse():\n",
    "print(\"Average CV Score :\", mean_mse/X.shape[0]) \n",
    "# We can take a look at the coefficient of determination, and the mean squared error for the LOOCV results:"
   ]
  },
  {
   "cell_type": "code",
   "execution_count": 20,
   "metadata": {},
   "outputs": [
    {
     "data": {
      "text/plain": [
       "Text(0, 0.5, 'Predicted mpg')"
      ]
     },
     "execution_count": 20,
     "metadata": {},
     "output_type": "execute_result"
    },
    {
     "data": {
      "image/png": "[encoded data removed]",
      "text/plain": [
       "<Figure size 640x480 with 1 Axes>"
      ]
     },
     "metadata": {},
     "output_type": "display_data"
    }
   ],
   "source": [
    "## Let us plot the model\n",
    "plt.scatter(kf_ytests, kf_predictedvalues)\n",
    "plt.xlabel('Reported mpg')\n",
    "plt.ylabel('Predicted mpg')"
   ]
  },
  {
   "attachments": {},
   "cell_type": "markdown",
   "metadata": {},
   "source": [
    "## Boostrapping"
   ]
  },
  {
   "attachments": {},
   "cell_type": "markdown",
   "metadata": {},
   "source": [
    "**Bootstrapping is based on the jackknife method**, which was proposed by Quenouille in 1949, and then refined by Tukey in 1958. The jackknife method is used for testing hypotheses and estimating confidence intervals. It's obtained by calculating the estimate after leaving out each observation and then computing the average of these calculations. With a sample of size N, the jackknife estimate can be found by aggregating the estimates of every N-1 sized sub-sample. It's similar to bootstrap samples, but while the bootstrap method is sampling with replacement, the jackknife method samples the data without replacement.\n",
    "\n",
    "**Bootstrapping is a powerful, non-parametric resampling technique that's used to assess the uncertainty in the estimator**. **In bootstrapping, a large number of samples with the same size are drawn repeatedly from an original sample. This allows a given observation to be included in more than one sample, which is known as sampling with replacement**. In the bootstrap method, $n$ samples are created from the original data by sampling with replacement. Each sample is of identical size. The larger $n$, the closer the set of samples will be to the ideal bootstrap sample.\n",
    "\n",
    "> \"The essence of bootstrapping is the idea that in the absence of any other knowledge about a population, the distribution of values found in a random sample of size $n$ from the population is the best guide to the distribution in the population. Therefore to approximate what would happen if the population was resampled, it's sensible to resample the sample. In other words, the infinite population that consists of the $n$ observed sample values, each with probability $\\frac{1}{n}$, is used to model the unknown real population.\" –Bryan F. J. Manly\n",
    "\n",
    "A diagrammatic representation of a bootstrap sample would look as follows:\n",
    "\n",
    "![Alt text](boostraping_sample.png)"
   ]
  },
  {
   "attachments": {},
   "cell_type": "markdown",
   "metadata": {},
   "source": [
    "Let's say that we have n bootstrap samples from our original sample. $\\hat{\\theta_i}$ denotes the estimates of the $n$ bootstrap samples where $i=1,2,3 \\dots,n$. If $\\hat{\\theta_i}$ denotes the estimate of the parameter for the original sample, the standard error for $\\hat{\\theta_i}$ is given as follows:\n",
    "\n",
    "$$\n",
    "\\text{SE}(\\hat{\\theta}) = \\sqrt{\\frac{1}{n-1}\\sum^n_{i=1}(\\hat{\\theta_i} - \\bar{\\theta})^2}\n",
    "$$\n",
    "\n",
    "$\\bar{\\theta}$ is given as follows:\n",
    "\n",
    "$$\n",
    "\\bar{\\theta} = (\\frac{1}{n})\\sum^n_{i=1}\\hat{\\theta_i}\n",
    "$$\n",
    "$\\bar{\\theta}$ is the mean of the estimates across the $n$ bootsrap samples"
   ]
  },
  {
   "attachments": {},
   "cell_type": "markdown",
   "metadata": {},
   "source": [
    "### Getting ready"
   ]
  },
  {
   "cell_type": "code",
   "execution_count": 21,
   "metadata": {},
   "outputs": [],
   "source": [
    "import pandas as pd\n",
    "import numpy as np\n",
    "\n",
    "from sklearn.model_selection import train_test_split\n",
    "from sklearn.linear_model import SGDRegressor\n",
    "from sklearn.metrics import mean_squared_error, r2_score\n",
    "import matplotlib.pyplot as plt\n",
    "\n",
    "from sklearn.utils import resample\n",
    "\n",
    "# We load our data and fill in the missing values with the median for the horsepower variable. We also drop the carname variable:\n",
    "\n",
    "# Let's read our data. We prefix the data frame name with \"df_\" for easier understanding.\n",
    "df_autodata = pd.read_csv(\"autompg.csv\")\n",
    "# df_autodata['horsepower'].fillna(df_autodata['horsepower'].median(), inplace=True)\n",
    "df_autodata['horsepower'] = df_autodata['horsepower'].fillna(df_autodata['horsepower'].median())\n",
    "# df_autodata.drop(['carname'], axis=1, inplace=True)\n",
    "df_autodata = df_autodata.drop(['carname'], axis=1)"
   ]
  },
  {
   "attachments": {},
   "cell_type": "markdown",
   "metadata": {},
   "source": [
    "### How to do it"
   ]
  },
  {
   "attachments": {},
   "cell_type": "markdown",
   "metadata": {},
   "source": [
    "Now that we have read our data, let's see how we can perform bootstrap sampling:"
   ]
  },
  {
   "cell_type": "code",
   "execution_count": 22,
   "metadata": {},
   "outputs": [
    {
     "data": {
      "image/png": "[encoded data removed]",
      "text/plain": [
       "<Figure size 600x600 with 1 Axes>"
      ]
     },
     "metadata": {},
     "output_type": "display_data"
    }
   ],
   "source": [
    "# 1 We write a custom function, create_bootstrap_oob(),\n",
    "# which takes a DataFrame as a parameter and uses the\n",
    "# resample() function from sklearn.utils to create a bootstrap sample with 100 observations:\n",
    "# This custom function takes a dataframe as an argument\n",
    "def create_bootstrap_oob(df):\n",
    "    global df_OOB\n",
    "    global df_bootstrap_sample \n",
    "    \n",
    "    # creating the bootstrap sample\n",
    "    df_bootstrap_sample = resample(df, replace=True, n_samples=100)\n",
    "    \n",
    "    # creating the OOB sample \n",
    "    bootstrap_sample_index = tuple(df_bootstrap_sample.index)\n",
    "    bootstrap_df = df.index.isin(bootstrap_sample_index)\n",
    "    df_OOB = df[~bootstrap_df]\n",
    "\n",
    "# 2 We loop through 50 iterations and call the custom function by\n",
    "# passing the df_autodata DataFrame. We capture the mean of the mpg\n",
    "# variable for each bootstrap sample, which we'll measure against\n",
    "# the mean of the mpg variable in our original DataFrame, which is\n",
    "# df_autodata:\n",
    "iteration=50\n",
    "bootstap_statistics=list()\n",
    "originalsample_statistics=list()\n",
    "\n",
    "for i in range(iteration):\n",
    "    # Call custom function create_bootstrap_oob(). Pass df_autodata\n",
    "    create_bootstrap_oob(df_autodata)\n",
    "    \n",
    "    # Capture mean value of mpg variable for all bootstrap samples\n",
    "    bootstap_statistics.append(df_bootstrap_sample.iloc[:,0].mean())\n",
    "    originalsample_statistics.append(df_autodata['mpg'].mean())\n",
    "\n",
    "# 3 We plot the mean of the mpg variable for each iteration, for which a separate bootstrap sample has been considered. We capture the mean of the mpg variable for each bootstrap sample in each iteration:\n",
    "import matplotlib.pyplot as plt\n",
    "f, ax= plt.subplots(figsize=(6,6))\n",
    "\n",
    "plt.plot(bootstap_statistics, 'c--', label='Bootstrap Sample Statistic')\n",
    "plt.plot(originalsample_statistics, 'grey', label='Original Sample Statistic')\n",
    "plt.xlabel('Iterations')\n",
    "plt.ylabel('Statistic (Mean of mpg)')\n",
    "plt.legend(loc=4)\n",
    "plt.show()"
   ]
  },
  {
   "attachments": {},
   "cell_type": "markdown",
   "metadata": {},
   "source": [
    "### How it works"
   ]
  },
  {
   "attachments": {},
   "cell_type": "markdown",
   "metadata": {},
   "source": [
    "In Step 1, we created a custom function, `create_bootstrap_oob( )`, and used the `resample()` function from `sklearn.utils` to create a bootstrap sample with $100$ observations. The `create_bootstrap_oob( )` custom function took a DataFrame as an input parameter and created both bootstrap and Out-Of-the-Bag (OOB) samples.\n",
    "\n",
    "We mentioned that bootstrap sampling is sampling with replacement. This means that any given observation can appear more than once in a single sample.\n",
    "In Step 2, we looped through the 50 iterations and called the `create_bootstrap_oob( )` custom function by passing df_autoframe. We captured the mean of the mpg variable for each bootstrap sample. In Step 3, we considered a separate bootstrap sample for each iteration. We captured the mean of the mpg variable against each iteration and then plotted the mean of the mpg variable for each iteration."
   ]
  }
 ],
 "metadata": {
  "kernelspec": {
   "display_name": "ensemble-machine-learning-7jHvpwn2-py3.12",
   "language": "python",
   "name": "python3"
  },
  "language_info": {
   "codemirror_mode": {
    "name": "ipython",
    "version": 3
   },
   "file_extension": ".py",
   "mimetype": "text/x-python",
   "name": "python",
   "nbconvert_exporter": "python",
   "pygments_lexer": "ipython3",
   "version": "3.12.9"
  },
  "orig_nbformat": 4
 },
 "nbformat": 4,
 "nbformat_minor": 2
}

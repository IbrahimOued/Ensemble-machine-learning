{
 "cells": [
  {
   "cell_type": "markdown",
   "metadata": {},
   "source": [
    "# Bag the Models with Bagging"
   ]
  },
  {
   "attachments": {},
   "cell_type": "markdown",
   "metadata": {},
   "source": [
    "The **combination of classifiers can help reduce misclassification errors substantially**. Many studies have proved such ensembling methods can **significantly reduce the variance of the prediction model**. Several techniques have been proposed to achieve a variance reduction. For example, in many cases, bootstrap aggregating (bagging) classification trees have been shown to have higher accuracy than a single classification tree. **Bagging can be applied to tree-based algorithms to enhance the accuracy of the predictions**, although it can be used with methods other than tree-based methods as well."
   ]
  },
  {
   "attachments": {},
   "cell_type": "markdown",
   "metadata": {},
   "source": [
    "## Bootstrap aggregation"
   ]
  },
  {
   "attachments": {},
   "cell_type": "markdown",
   "metadata": {},
   "source": [
    "**Bootstrap aggregation**, also known as **bagging**, is a powerful ensemble method that was proposed by Leo Breiman in 1994 **to prevent overfitting**. **The concept behind *bagging* is to combine the predictions of several base learners to create a more accurate output.**\n",
    "\n",
    "Breiman showed that **bagging can successfully achieve the desired result in unstable learning algorithms where small changes to the training data can lead to large variations in the predictions**. Breiman demonstrated that algorithms such as neural networks and decision trees are examples of unstable learning algorithms. Bootstrap aggregation is effective on small datasets.\n",
    "\n",
    "The general procedure for bagging helps to reduce variance for those algorithms have high variance. Bagging also supports the classification and regression problem. The following diagram shows how the bootstrap aggregation flow works:\n",
    "![Alt text](bagging.png)\n",
    "\n",
    "Using bootstrapping with a training dataset X, we generate N bootstrap samples X1, X2,....., XN.\n",
    "\n",
    "For each bootstrap sample, we train a classifier, $b_i(x)$. The combined classifier will average the outputs from all these individual classifiers as follows:"
   ]
  },
  {
   "attachments": {},
   "cell_type": "markdown",
   "metadata": {},
   "source": [
    "$$\n",
    "b(x) = \\frac{1}{N}\\sum^N_{i=1}b_i(x)\n",
    "$$\n",
    "\n",
    "In the preceding formula, $N$ represents the number of samples.\n",
    "\n",
    "In a **bagging classifier**, **voting is used to make a final prediction**. The pseudo-code for the bagging classifier proposed by Breiman is as follows:\n",
    "\n",
    "![Diagram showing the bagging classifier process. Multiple base classifiers are trained on different bootstrap samples of the data. Each classifier makes a prediction, and the final output is determined by majority voting among all classifiers. The diagram includes arrows from each classifier to a voting box, which then points to the final prediction. The text in the image reads: For i = 1 to N: Draw a bootstrap sample from the training set, train a classifier on the sample, and store the classifier. To make a prediction, aggregate the predictions of all classifiers by majority vote.](bagging_classifier.png)\n",
    "\n",
    "In the case of the **bagging regressor**, **the final prediction is the average of the predictions of the models that are built over each bootstrap sample**. The following pseudo-code describes the bagging regressor:\n",
    "\n",
    "![Diagram illustrating the bagging regressor process. Several base regressors are trained on different bootstrap samples of the data. Each regressor outputs a prediction, and the final output is the average of all predictions. The diagram shows arrows from each regressor to an averaging box, which then points to the final prediction. The text in the image reads: For i = 1 to N: Draw a bootstrap sample from the training set, train a regressor on the sample, and store the regressor. To make a prediction, average the predictions of all regressors.](bagging_regressor.png)"
   ]
  },
  {
   "attachments": {},
   "cell_type": "markdown",
   "metadata": {},
   "source": [
    "### Getting ready"
   ]
  },
  {
   "attachments": {},
   "cell_type": "markdown",
   "metadata": {},
   "source": [
    "We start by importing the required libraries and reading our file. We suppress any warnings using the `warnings.filterwarnings()` function from the `warnings` library"
   ]
  },
  {
   "cell_type": "code",
   "execution_count": 3,
   "metadata": {},
   "outputs": [
    {
     "data": {
      "application/vnd.microsoft.datawrangler.viewer.v0+json": {
       "columns": [
        {
         "name": "index",
         "rawType": "object",
         "type": "string"
        },
        {
         "name": "0",
         "rawType": "int64",
         "type": "integer"
        }
       ],
       "ref": "52759c30-39ae-4713-a8b6-9f90768d2311",
       "rows": [
        [
         "horsepower",
         "6"
        ]
       ],
       "shape": {
        "columns": 1,
        "rows": 1
       }
      },
      "text/plain": [
       "horsepower    6\n",
       "dtype: int64"
      ]
     },
     "execution_count": 3,
     "metadata": {},
     "output_type": "execute_result"
    }
   ],
   "source": [
    "import warnings\n",
    "warnings.filterwarnings('ignore')\n",
    "\n",
    "import os\n",
    "import pandas as pd\n",
    "import numpy as np\n",
    "\n",
    "from sklearn.model_selection import train_test_split\n",
    "from sklearn.linear_model import SGDRegressor\n",
    "from sklearn.metrics import mean_squared_error, r2_score\n",
    "from sklearn.utils import resample\n",
    "\n",
    "import matplotlib.pyplot as plt\n",
    "\n",
    "df_autodata = pd.read_csv(\"autompg.csv\")\n",
    "\n",
    "# We check wether the dataset has any missing values as follows\n",
    "# the below syntax returns the columns names which has any missing value\n",
    "columns_with_missing_values = df_autodata.columns[df_autodata.isnull().any()]\n",
    "\n",
    "# We pass the column names with missing values to the dataframe to count the number\n",
    "# of missing values\n",
    "df_autodata[columns_with_missing_values].isnull().sum()"
   ]
  },
  {
   "cell_type": "code",
   "execution_count": 4,
   "metadata": {},
   "outputs": [
    {
     "data": {
      "application/vnd.microsoft.datawrangler.viewer.v0+json": {
       "columns": [
        {
         "name": "index",
         "rawType": "int64",
         "type": "integer"
        },
        {
         "name": "mpg",
         "rawType": "float64",
         "type": "float"
        },
        {
         "name": "cylinders",
         "rawType": "int64",
         "type": "integer"
        },
        {
         "name": "displacement",
         "rawType": "float64",
         "type": "float"
        },
        {
         "name": "horsepower",
         "rawType": "float64",
         "type": "float"
        },
        {
         "name": "weight",
         "rawType": "int64",
         "type": "integer"
        },
        {
         "name": "acceleration",
         "rawType": "float64",
         "type": "float"
        },
        {
         "name": "model year",
         "rawType": "int64",
         "type": "integer"
        },
        {
         "name": "origin",
         "rawType": "int64",
         "type": "integer"
        }
       ],
       "ref": "94abafdb-a391-452c-a39a-670e46f69067",
       "rows": [
        [
         "0",
         "18.0",
         "8",
         "307.0",
         "130.0",
         "3504",
         "12.0",
         "70",
         "1"
        ],
        [
         "1",
         "15.0",
         "8",
         "350.0",
         "165.0",
         "3693",
         "11.5",
         "70",
         "1"
        ],
        [
         "2",
         "18.0",
         "8",
         "318.0",
         "150.0",
         "3436",
         "11.0",
         "70",
         "1"
        ],
        [
         "3",
         "16.0",
         "8",
         "304.0",
         "150.0",
         "3433",
         "12.0",
         "70",
         "1"
        ],
        [
         "4",
         "17.0",
         "8",
         "302.0",
         "140.0",
         "3449",
         "10.5",
         "70",
         "1"
        ]
       ],
       "shape": {
        "columns": 8,
        "rows": 5
       }
      },
      "text/html": [
       "<div>\n",
       "<style scoped>\n",
       "    .dataframe tbody tr th:only-of-type {\n",
       "        vertical-align: middle;\n",
       "    }\n",
       "\n",
       "    .dataframe tbody tr th {\n",
       "        vertical-align: top;\n",
       "    }\n",
       "\n",
       "    .dataframe thead th {\n",
       "        text-align: right;\n",
       "    }\n",
       "</style>\n",
       "<table border=\"1\" class=\"dataframe\">\n",
       "  <thead>\n",
       "    <tr style=\"text-align: right;\">\n",
       "      <th></th>\n",
       "      <th>mpg</th>\n",
       "      <th>cylinders</th>\n",
       "      <th>displacement</th>\n",
       "      <th>horsepower</th>\n",
       "      <th>weight</th>\n",
       "      <th>acceleration</th>\n",
       "      <th>model year</th>\n",
       "      <th>origin</th>\n",
       "    </tr>\n",
       "  </thead>\n",
       "  <tbody>\n",
       "    <tr>\n",
       "      <th>0</th>\n",
       "      <td>18.0</td>\n",
       "      <td>8</td>\n",
       "      <td>307.0</td>\n",
       "      <td>130.0</td>\n",
       "      <td>3504</td>\n",
       "      <td>12.0</td>\n",
       "      <td>70</td>\n",
       "      <td>1</td>\n",
       "    </tr>\n",
       "    <tr>\n",
       "      <th>1</th>\n",
       "      <td>15.0</td>\n",
       "      <td>8</td>\n",
       "      <td>350.0</td>\n",
       "      <td>165.0</td>\n",
       "      <td>3693</td>\n",
       "      <td>11.5</td>\n",
       "      <td>70</td>\n",
       "      <td>1</td>\n",
       "    </tr>\n",
       "    <tr>\n",
       "      <th>2</th>\n",
       "      <td>18.0</td>\n",
       "      <td>8</td>\n",
       "      <td>318.0</td>\n",
       "      <td>150.0</td>\n",
       "      <td>3436</td>\n",
       "      <td>11.0</td>\n",
       "      <td>70</td>\n",
       "      <td>1</td>\n",
       "    </tr>\n",
       "    <tr>\n",
       "      <th>3</th>\n",
       "      <td>16.0</td>\n",
       "      <td>8</td>\n",
       "      <td>304.0</td>\n",
       "      <td>150.0</td>\n",
       "      <td>3433</td>\n",
       "      <td>12.0</td>\n",
       "      <td>70</td>\n",
       "      <td>1</td>\n",
       "    </tr>\n",
       "    <tr>\n",
       "      <th>4</th>\n",
       "      <td>17.0</td>\n",
       "      <td>8</td>\n",
       "      <td>302.0</td>\n",
       "      <td>140.0</td>\n",
       "      <td>3449</td>\n",
       "      <td>10.5</td>\n",
       "      <td>70</td>\n",
       "      <td>1</td>\n",
       "    </tr>\n",
       "  </tbody>\n",
       "</table>\n",
       "</div>"
      ],
      "text/plain": [
       "    mpg  cylinders  displacement  horsepower  weight  acceleration  \\\n",
       "0  18.0          8         307.0       130.0    3504          12.0   \n",
       "1  15.0          8         350.0       165.0    3693          11.5   \n",
       "2  18.0          8         318.0       150.0    3436          11.0   \n",
       "3  16.0          8         304.0       150.0    3433          12.0   \n",
       "4  17.0          8         302.0       140.0    3449          10.5   \n",
       "\n",
       "   model year  origin  \n",
       "0          70       1  \n",
       "1          70       1  \n",
       "2          70       1  \n",
       "3          70       1  \n",
       "4          70       1  "
      ]
     },
     "execution_count": 4,
     "metadata": {},
     "output_type": "execute_result"
    }
   ],
   "source": [
    "# We notice that the horsepower variable has six missing values. We can fill in the missing values using the median of the horsepower variable's existing values with the following code:\n",
    "df_autodata['horsepower'].fillna(df_autodata['horsepower'].median(), inplace=True)\n",
    "# We notice that the carname variable is an identifier and is not useful in our model-building exercise, so we can drop it as follows:\n",
    "\n",
    "df_autodata.drop(['carname'], axis=1, inplace=True)\n",
    "# We can look at the data with the dataframe.head() command:\n",
    "\n",
    "df_autodata.head()"
   ]
  },
  {
   "attachments": {},
   "cell_type": "markdown",
   "metadata": {},
   "source": [
    "### How to do it"
   ]
  },
  {
   "cell_type": "code",
   "execution_count": 5,
   "metadata": {},
   "outputs": [
    {
     "data": {
      "image/png": "[encoded data removed]",
      "text/plain": [
       "<Figure size 800x600 with 1 Axes>"
      ]
     },
     "metadata": {},
     "output_type": "display_data"
    }
   ],
   "source": [
    "# 1 We start by creating the bootstrap samples\n",
    "# In Chapter 3, Resampling Methods, we wrote a\n",
    "# custom function, create_bootstrap_oob(), to\n",
    "# create both bootstrap and out-of-bag (OOB) samples.\n",
    "\n",
    "def create_bootstrap_oob(df):\n",
    "    global df_OOB\n",
    "    global df_bootstrap_sample \n",
    "    # creating the bootstrap sample\n",
    "    df_bootstrap_sample = resample(df, replace=True, n_samples=100)\n",
    "    \n",
    "    # creating the OOB sample \n",
    "    bootstrap_sample_index = tuple(df_bootstrap_sample.index)\n",
    "    bootstrap_df = df.index.isin(bootstrap_sample_index)\n",
    "    \n",
    "    df_OOB = df[~bootstrap_df]\n",
    "\n",
    "# 2 We build models using the bootstrap samples and average\n",
    "# the cost function across all the models. We use the SGDRegressor()\n",
    "# on each bootstrap sample. In the following code block, we reuse\n",
    "# our previously written custom function, create_bootstrap_oob(),\n",
    "# to create the bootstrap and OOB error samples:\n",
    "iteration=50\n",
    "mse_each_iterations = list()\n",
    "lm=SGDRegressor()\n",
    "total_mse=0\n",
    "average_mse= list()\n",
    "\n",
    "for i in range(iteration):\n",
    "    create_bootstrap_oob(df_autodata)\n",
    "\n",
    "    # Bootstrap sample features set\n",
    "    X_BS = df_bootstrap_sample.iloc[:,1:8] \n",
    "\n",
    "    # bootstrap sample response variable\n",
    "    Y_BS = df_bootstrap_sample.iloc[:,0]\n",
    "    X_OOB = df_OOB.iloc[:,1:8] #OOB sample features\n",
    "    Y_OOB = df_OOB.iloc[:,0] #OOB sample response variable \n",
    "    \n",
    "    # fit your model with bootstrap sample\n",
    "    lm=SGDRegressor()\n",
    "    lm.fit(X_BS, Y_BS)\n",
    "    \n",
    "    # test your model on out-of-bag sample \n",
    "    predictedvalues = lm.predict(X_OOB)\n",
    "    \n",
    "    # capture MSE for the predicted values against OOB actuals\n",
    "    mse = mean_squared_error(Y_OOB, predictedvalues)\n",
    "    \n",
    "    # create a list of mse values\n",
    "    mse_each_iterations.append(mse)\n",
    "\n",
    "# 3 We are now going to plot the MSE for each model built:\n",
    "import matplotlib.pyplot as plt\n",
    "f, ax= plt.subplots(figsize=(8,6))\n",
    "\n",
    "plt.plot(mse_each_iterations, 'c--', label='MSE by Iteration')\n",
    "\n",
    "plt.xlabel('Iterations')\n",
    "plt.ylabel('Mean Squared Error')\n",
    "plt.legend(loc=1)\n",
    "plt.show()"
   ]
  },
  {
   "attachments": {},
   "cell_type": "markdown",
   "metadata": {},
   "source": [
    "### How it works"
   ]
  },
  {
   "attachments": {},
   "cell_type": "markdown",
   "metadata": {},
   "source": [
    "In Step 1, we executed our custom function code to create the `create_bootstrap_oob()` function that creates the bootstrap and `OOB samples` for us. In Step 2, we executed the following steps:\n",
    "\n",
    "1. We decided to make $50$ iterations, so we set the iteration variable to 50.\n",
    "2. The `create_bootstrap_oob()` function returned two DataFrame objects, df_bootstrap_sample and df_OOB, in each iteration.\n",
    "3. We used `df_bootstrap_sample` and `df_OOB` as our bootstrap and OOB samples respectively.\n",
    "4. We split both the df_bootstrap_sample and the `df_OOB` samples into feature sets and response variables.\n",
    "5. We fit the `SGDRegressor()` to our bootstrap sample to build our model.\n",
    "6. We passed the `OOB sample` to the model to predict our values.\n",
    "7. We compared the predicted values against the response variable in the OOB sample.\n",
    "8. We calculated the `MSE` for each iteration.\n",
    "\n",
    "In Step 3, we created a plot to show the MSE for each iteration up to the fiftieth iteration. This result may vary because of randomness."
   ]
  },
  {
   "attachments": {},
   "cell_type": "markdown",
   "metadata": {},
   "source": [
    "## Ensemble meta-estimators"
   ]
  },
  {
   "attachments": {},
   "cell_type": "markdown",
   "metadata": {},
   "source": [
    "The **bagging classifier and the bagging regressor are ensemble meta-estimators** that **fit the base classifier and regressor models respectively on random subsets of the original dataset**. The **predictions from each model are combined to create the final prediction**. These kinds of meta-estimators induce randomization into the model-building process and aggregate the outcome. **The aggregation averages over the iterations for a numerical target variable and performs a plurality vote in order to reach a categorical outcome**."
   ]
  },
  {
   "attachments": {},
   "cell_type": "markdown",
   "metadata": {},
   "source": [
    "## Bagging classifiers"
   ]
  },
  {
   "attachments": {},
   "cell_type": "markdown",
   "metadata": {},
   "source": [
    "Bagging classifiers train each classifier model on a random subset of the original training set and aggregate the predictions, then perform a plurality voting for a categorical outcome. In the following recipe, we are going to look at an implementation of a bagging classifier with bootstrap samples."
   ]
  },
  {
   "attachments": {},
   "cell_type": "markdown",
   "metadata": {},
   "source": [
    "### How to do it"
   ]
  },
  {
   "cell_type": "code",
   "execution_count": 6,
   "metadata": {},
   "outputs": [
    {
     "data": {
      "text/plain": [
       "(177, 14)"
      ]
     },
     "execution_count": 6,
     "metadata": {},
     "output_type": "execute_result"
    }
   ],
   "source": [
    "# 1 We import BaggingClassifier and DecisionTreeClassifier from\n",
    "# scikit-learn\n",
    "from sklearn.ensemble import BaggingClassifier\n",
    "from sklearn.tree import DecisionTreeClassifier\n",
    "from sklearn.model_selection import train_test_split\n",
    "\n",
    "# 2 Next we read out the data and take a look at the dim\n",
    "df_winedata = pd.read_csv('./winedata.csv')\n",
    "df_winedata.shape"
   ]
  },
  {
   "cell_type": "code",
   "execution_count": 7,
   "metadata": {},
   "outputs": [],
   "source": [
    "# 3 We separate our features and the response set. We also split\n",
    "# out data into train test subsets\n",
    "X = df_winedata.iloc[:, 1: 14]\n",
    "y = df_winedata.iloc[:, 0]\n",
    "\n",
    "X_train, X_test, y_train, y_test = train_test_split(X, y, test_size=.3, random_state=0)\n",
    "\n",
    "# 4 We create an instance of the DecisionTreeClassifier class and pass\n",
    "# it to the BagginClassifier()\n",
    "dt_model = DecisionTreeClassifier(criterion='entropy')\n",
    "bag_dt_model = BaggingClassifier(dt_model, max_features=1.0, n_estimators=5, \\\n",
    "                            random_state=1, bootstrap=True)\n",
    "\n",
    "# Note that in the preceding code block, we have declared bootstrap=True. \n",
    "# This is the default value and indicates that samples are drawn with replacement.\n",
    "\n",
    "# 5 We fit our model to the training data as follows\n",
    "bag_dt_model.fit(X_train, y_train)\n",
    "\n",
    "# 6 We can see the score after passing the test data to the model\n",
    "bag_dt_model.score(X_test, y_test)\n",
    "\n",
    "# 7 We use the predict function to predict the response variable as follows\n",
    "predictedvalues = bag_dt_model.predict(X_test)"
   ]
  },
  {
   "cell_type": "code",
   "execution_count": 8,
   "metadata": {},
   "outputs": [],
   "source": [
    "# 8 e will now use a code to plot the confusion matrix. Note that this code has been taken from scikit-learn.org. We execute the following code to create the plot_confusion_matrix() function:\n",
    "# code from \n",
    "# http://scikit-learn.org/stable/auto_examples/model_selection/plot_confusion_matrix.html\n",
    "import itertools\n",
    "\n",
    "\n",
    "def plot_confusion_matrix(cm, classes, normalize=False, title='Confusion matrix', cmap=plt.cm.Blues):\n",
    "    \"\"\"\n",
    "    This function prints and plots the confusion matrix.\n",
    "    \"\"\"\n",
    "    plt.imshow(cm, interpolation='nearest', cmap=cmap)\n",
    "    plt.title(title)\n",
    "    plt.colorbar()\n",
    "    tick_marks = np.arange(len(classes))\n",
    "    plt.xticks(tick_marks, classes, rotation=45)\n",
    "    plt.yticks(tick_marks, classes)\n",
    "\n",
    "    thresh = cm.max() / 2.\n",
    "    for i, j in itertools.product(range(cm.shape[0]), range(cm.shape[1])):\n",
    "        plt.text(j, i, cm[i, j], horizontalalignment=\"center\", color=\"white\" if cm[i, j] > thresh else \"black\")\n",
    "\n",
    "    plt.tight_layout()\n",
    "    plt.ylabel('Actuals')\n",
    "    plt.xlabel('Predicted')"
   ]
  },
  {
   "cell_type": "code",
   "execution_count": 9,
   "metadata": {},
   "outputs": [
    {
     "data": {
      "image/png": "[encoded data removed]",
      "text/plain": [
       "<Figure size 300x300 with 2 Axes>"
      ]
     },
     "metadata": {},
     "output_type": "display_data"
    }
   ],
   "source": [
    "# 9 We use the preceding plot_confusion_matrix() function to plot our confusion matrix:\n",
    "# This variable holds the class labels of our target variable\n",
    "target_names = [ '1', '2', '3']\n",
    "\n",
    "import itertools\n",
    "from sklearn.metrics import confusion_matrix\n",
    "\n",
    "# Constructing the Confusion Matrix\n",
    "cm = confusion_matrix(y_test, predictedvalues)\n",
    "# Plotting the confusion matrix\n",
    "plt.figure(figsize=(3,3))\n",
    "plot_confusion_matrix(cm, classes=target_names, normalize=False)\n",
    "plt.show()"
   ]
  },
  {
   "attachments": {},
   "cell_type": "markdown",
   "metadata": {},
   "source": [
    "### How it works"
   ]
  },
  {
   "cell_type": "markdown",
   "metadata": {},
   "source": [
    "In Step 1, we imported the required libraries to build our decision tree classifier model using the bagging classifier. In Step 2, we read our dataset, which was winedata.csv. In Step 3, we separated our feature set and the target variable. We also split our data into training and testing subsets. In Step 4, we created a decision tree classifier model and passed it to the `BaggingClassifier()`. In the `DecisionTreeClassifier()`, the default value for the criterion parameter was gini, but we changed it to entropy. We then passed our decision tree model to the `BaggingClassfier()`. In the `BaggingClassfier()`, we have parameters including n_estimators and bootstrap. n_estimators is the number of base estimators in the ensemble and has a default value of 10. The bootstrap parameter indicates whether samples are drawn with replacement or not and is set to True by default.\n",
    "\n",
    "In Step 5 and Step 6, we fitted our model to the training data and looked at the score of the test set. In Step 7, we called the `predict()` method and passed the test feature set. In Step 8, we added the code for the `plot_confusion_matrix()` from http://scikit-learn.org, which takes the confusion matrix as one of its input parameters and plots the confusion matrix. In Step 9, we called the `plot_confusion_matrix()` function by passing the confusion matrix to generate the confusion matrix plot."
   ]
  },
  {
   "cell_type": "markdown",
   "metadata": {},
   "source": [
    "### There's more"
   ]
  },
  {
   "cell_type": "markdown",
   "metadata": {},
   "source": [
    "We can also use `GridSearchCV()` from sklearn.model_selection to grid search the best parameters and use them in the `BaggingClassifier`:"
   ]
  },
  {
   "cell_type": "code",
   "execution_count": 10,
   "metadata": {},
   "outputs": [],
   "source": [
    "# NOTE:  In newer versions of scikit-learn, the way parameters are specified for nested estimators has been updated.\n",
    "# Specifically, when using GridSearchCV with a BaggingClassifier, you should use the estimator__ prefix instead of\n",
    "# base_estimator__ to specify parameters for the underlying estimator."
   ]
  },
  {
   "cell_type": "code",
   "execution_count": 11,
   "metadata": {},
   "outputs": [
    {
     "name": "stdout",
     "output_type": "stream",
     "text": [
      "{'estimator__max_depth': 3, 'estimator__max_leaf_nodes': 5, 'n_estimators': 30}\n"
     ]
    }
   ],
   "source": [
    "# 1 First we import the required libraries\n",
    "from sklearn.model_selection import GridSearchCV\n",
    "from sklearn.tree import DecisionTreeClassifier\n",
    "# 2 We then set our parameter values\n",
    "# param_values = {'n_estimators': [10, 20, 25, 30], 'base_estimator__max_leaf_nodes':[5, 10, 15, 20], 'base_estimator__max_depth':[3, 4, 5]}\n",
    "param_values = {\n",
    "    'n_estimators': [10, 20, 25, 30],\n",
    "    'estimator__max_leaf_nodes': [5, 10, 15, 20],\n",
    "    'estimator__max_depth': [3, 4, 5]\n",
    "}\n",
    "# 3 We instantiate our DecisionTreeClassifier class and pass it to the BaggingClassifier() function.\n",
    "# Note that we set the oob_score to True to evaluate the models built on the OOB samples:\n",
    "dt_model = DecisionTreeClassifier()\n",
    "bag_dt_model_grid = BaggingClassifier(estimator=dt_model, oob_score=True, random_state=1)\n",
    "# 4 We use GridSearchCV() to determine the best parameters:\n",
    "bc_grid = GridSearchCV(estimator=bag_dt_model_grid, param_grid=param_values, cv=20, n_jobs=-1)\n",
    "bc_grid.fit(X_train, y_train)\n",
    "best_params = bc_grid.best_params_\n",
    "print(best_params)"
   ]
  },
  {
   "cell_type": "code",
   "execution_count": 12,
   "metadata": {},
   "outputs": [
    {
     "name": "stdout",
     "output_type": "stream",
     "text": [
      "0.9512195121951219\n"
     ]
    }
   ],
   "source": [
    "# 5 We now take the values returned by bc_grid.bestparams and rebuild our decision tree models using the BaggingClassfier() function. We pass 10 for the max_leaf_nodes, 3 for the max_depth, and 20 for the n_estimators:\n",
    "best_dt_model = DecisionTreeClassifier(criterion='entropy', max_leaf_nodes=10, max_depth=3) \n",
    "final_bag_dt_model = BaggingClassifier(estimator=best_dt_model, n_estimators=150, bootstrap=True, random_state=1, oob_score=True)\n",
    "# We set our n_estimators to 150 in the preceding code block. The n_estimators parameter\n",
    "# indicates the number of trees we want to build. We fit our final model to our training\n",
    "# data and make a prediction using our test feature set.\n",
    "\n",
    "# 6 We can then look at the accuracy of our OOB samples in the following code block:\n",
    "final_bag_dt_model.fit(X_train, y_train)\n",
    "bag_predictedvalues = final_bag_dt_model.predict(X_test)\n",
    "\n",
    "# See the OOB accuracy\n",
    "acc_oob = final_bag_dt_model.oob_score_\n",
    "print(acc_oob)\n",
    "# If we plot our confusion matrix, we can see that we have made an improvement with regard to the number of misclassifications\n",
    "# that are made. In the earlier example, two instances of class 2 were wrongly predicted as class 3, but we can now see that\n",
    "# the number of misclassifications has reduced to one:"
   ]
  },
  {
   "cell_type": "code",
   "execution_count": 13,
   "metadata": {},
   "outputs": [
    {
     "data": {
      "image/png": "[encoded data removed]",
      "text/plain": [
       "<Figure size 300x300 with 2 Axes>"
      ]
     },
     "metadata": {},
     "output_type": "display_data"
    }
   ],
   "source": [
    "# Plot the confusion matrix\n",
    "plt.figure(figsize=(3,3))\n",
    "plot_confusion_matrix(confusion_matrix(y_test, bag_predictedvalues), classes=target_names, normalize=False)\n",
    "plt.show()"
   ]
  },
  {
   "cell_type": "markdown",
   "metadata": {},
   "source": [
    "## Bagging regressors"
   ]
  },
  {
   "cell_type": "markdown",
   "metadata": {},
   "source": [
    "Bagging regressors are similar to bagging classifiers. They train each regressor model on a random subset of the original training set and aggregate the predictions. Then, the aggregation averages over the iterations because the target variable is numeric. In the following recipe, we are going to showcase the implementation of a bagging regressor with bootstrap samples."
   ]
  },
  {
   "cell_type": "markdown",
   "metadata": {},
   "source": [
    "### Getting ready"
   ]
  },
  {
   "cell_type": "code",
   "execution_count": 16,
   "metadata": {},
   "outputs": [
    {
     "data": {
      "text/plain": [
       "(506, 14)"
      ]
     },
     "execution_count": 16,
     "metadata": {},
     "output_type": "execute_result"
    }
   ],
   "source": [
    "# We will import the required libraries, `BaggingRegressor` and `DecisionTreeRegressor`, from `sklearn.ensemble` and `sklearn.tree` respectively:\n",
    "from sklearn.ensemble import BaggingRegressor\n",
    "from sklearn.tree import DecisionTreeRegressor\n",
    "\n",
    "# We read our dataset, which is bostonhousing.csv, and look at the dimensions of the DataFrame:\n",
    "df_housingdata = pd.read_csv('BostonHousing.csv')\n",
    "df_housingdata.shape"
   ]
  },
  {
   "cell_type": "markdown",
   "metadata": {},
   "source": [
    "We now move on to creating our feature set and our target variable set."
   ]
  },
  {
   "cell_type": "markdown",
   "metadata": {},
   "source": [
    "### How to do it"
   ]
  },
  {
   "cell_type": "code",
   "execution_count": 17,
   "metadata": {},
   "outputs": [
    {
     "data": {
      "image/png": "[encoded data removed]",
      "text/plain": [
       "<Figure size 400x400 with 1 Axes>"
      ]
     },
     "metadata": {},
     "output_type": "display_data"
    }
   ],
   "source": [
    "# 1 We first separate our feature and response set. We will also split our data into training and testing subsets in the following code block:\n",
    "X = df_housingdata.iloc[:,1:14]\n",
    "y = df_housingdata.iloc[:,-1]\n",
    "\n",
    "X_train, X_test, y_train, y_test = train_test_split(X, y, random_state=1)\n",
    "# 2 We will then create an instance of the DecisionTreeRegressor class and pass it to the BaggingRegressor() function:\n",
    "dt_model    = DecisionTreeRegressor()\n",
    "bag_dt_model = BaggingRegressor(dt_model, max_features=1.0, n_estimators=5, bootstrap=True, random_state=1, )\n",
    "# 3 We will fit our model to the training dataset as follows:\n",
    "bag_dt_model.fit(X_train, y_train)\n",
    "\n",
    "# 4 We can see the model score in the following code block:\n",
    "bag_dt_model.score(X_test, y_test)\n",
    "# 5 We use the predict() function and pass the test dataset to predict our target variable as follows:\n",
    "predictedvalues = bag_dt_model.predict(X_test)\n",
    "# 6 We plot the scatter plot of our actual values and the predicted values of our target variable with the following code:\n",
    "#We can plot the actuals and the predicted values \n",
    "plt.figure(figsize=(4, 4))\n",
    "plt.scatter(y_test, predictedvalues)\n",
    "plt.xlabel('Actual')\n",
    "plt.ylabel('Predicted')\n",
    "plt.tight_layout()\n",
    "# Executing the preceding code gives us the following scatter plot:"
   ]
  },
  {
   "cell_type": "markdown",
   "metadata": {},
   "source": [
    "The `matplotlib.pyplot.tight_layout()` **automatically adjusts the subplot parameters to create specified padding**. This is useful when we have multiple subplots and want to ensure that they do not overlap or have excessive whitespace between them."
   ]
  },
  {
   "cell_type": "code",
   "execution_count": null,
   "metadata": {},
   "outputs": [
    {
     "name": "stdout",
     "output_type": "stream",
     "text": [
      "0.9994660497071766\n"
     ]
    }
   ],
   "source": [
    "# 7 We now change the n_estimators parameter to 30 in the following code and re-execute the steps from Step 3 to Step 6:\n",
    "bag_dt_model = BaggingRegressor(dt_model, max_features=1.0, n_estimators=30, bootstrap=True, random_state=1, )\n",
    "# This gives us the following score at the end of the code block:\n",
    "bag_dt_model.fit(X_train, y_train)\n",
    "# We can see the model score in the following code block:\n",
    "print(bag_dt_model.score(X_test, y_test))"
   ]
  },
  {
   "cell_type": "code",
   "execution_count": 21,
   "metadata": {},
   "outputs": [
    {
     "data": {
      "image/png": "[encoded data removed]",
      "text/plain": [
       "<Figure size 400x400 with 1 Axes>"
      ]
     },
     "metadata": {},
     "output_type": "display_data"
    }
   ],
   "source": [
    "# 8 The plot of the actual values against the predicted values looks as follows. This shows us that the values are predicted\n",
    "# more accurately than in our previous case when we changed the value of the n_estimator parameter from 5 to 30:\n",
    "plt.figure(figsize=(4, 4))\n",
    "plt.scatter(y_test, predictedvalues)\n",
    "plt.xlabel('Actual')\n",
    "plt.ylabel('Predicted')\n",
    "plt.tight_layout()\n",
    "# Executing the preceding code gives us the following scatter plot:\n",
    "plt.show()"
   ]
  },
  {
   "cell_type": "markdown",
   "metadata": {},
   "source": [
    "### How it works"
   ]
  },
  {
   "cell_type": "markdown",
   "metadata": {},
   "source": [
    "In Step 1, we separated the features and the target variable set. We also split our data into training and testing subsets. In Step 2, we created a decision tree regressor model and passed it to the `BaggingRegressor()` function. Note that we also passed the `n_estimator=5` parameter to the `BaggingRegressor()` function. As mentioned earlier, n_estimator is the number of trees in the forest we would like the algorithm to build. In Step 3, we trained our model.\n",
    "\n",
    "In Step 4, we looked at the model score, which was $0.71$. In Step 5, we used the `predict()` function to predict our target variable for the test subset. After that, in Step 6, we plotted a scatterplot to explore the relationship between the actual target values and the predicted target values.\n",
    "\n",
    "In Step 7, we changed the `n_estimator` parameter's value from 5 to 30 and re-built our model. This time, we noticed that the model score improved to $0.82$. In Step 8, we plotted the actual and predicted values and saw that the correlation between the actual and predicted values was much better than our previous model, where we used `n_estimators=5`."
   ]
  }
 ],
 "metadata": {
  "kernelspec": {
   "display_name": "ensemble-machine-learning-7jHvpwn2-py3.12",
   "language": "python",
   "name": "python3"
  },
  "language_info": {
   "codemirror_mode": {
    "name": "ipython",
    "version": 3
   },
   "file_extension": ".py",
   "mimetype": "text/x-python",
   "name": "python",
   "nbconvert_exporter": "python",
   "pygments_lexer": "ipython3",
   "version": "3.12.9"
  },
  "orig_nbformat": 4
 },
 "nbformat": 4,
 "nbformat_minor": 2
}
